{
 "cells": [
  {
   "cell_type": "markdown",
   "id": "a9ceffb0",
   "metadata": {},
   "source": [
    "# Análisis de Abandono de Clientes (Churn Prediction)"
   ]
  },
  {
   "cell_type": "markdown",
   "id": "3b78ebf9",
   "metadata": {},
   "source": [
    "## 1. Carga y Exploración de Datos"
   ]
  },
  {
   "cell_type": "code",
   "execution_count": 44,
   "id": "69bab4cf",
   "metadata": {},
   "outputs": [
    {
     "name": "stdout",
     "output_type": "stream",
     "text": [
      "Dimensiones: (7043, 21)\n"
     ]
    },
    {
     "data": {
      "text/html": [
       "<div>\n",
       "<style scoped>\n",
       "    .dataframe tbody tr th:only-of-type {\n",
       "        vertical-align: middle;\n",
       "    }\n",
       "\n",
       "    .dataframe tbody tr th {\n",
       "        vertical-align: top;\n",
       "    }\n",
       "\n",
       "    .dataframe thead th {\n",
       "        text-align: right;\n",
       "    }\n",
       "</style>\n",
       "<table border=\"1\" class=\"dataframe\">\n",
       "  <thead>\n",
       "    <tr style=\"text-align: right;\">\n",
       "      <th></th>\n",
       "      <th>customerID</th>\n",
       "      <th>gender</th>\n",
       "      <th>SeniorCitizen</th>\n",
       "      <th>Partner</th>\n",
       "      <th>Dependents</th>\n",
       "      <th>tenure</th>\n",
       "      <th>PhoneService</th>\n",
       "      <th>MultipleLines</th>\n",
       "      <th>InternetService</th>\n",
       "      <th>OnlineSecurity</th>\n",
       "      <th>...</th>\n",
       "      <th>DeviceProtection</th>\n",
       "      <th>TechSupport</th>\n",
       "      <th>StreamingTV</th>\n",
       "      <th>StreamingMovies</th>\n",
       "      <th>Contract</th>\n",
       "      <th>PaperlessBilling</th>\n",
       "      <th>PaymentMethod</th>\n",
       "      <th>MonthlyCharges</th>\n",
       "      <th>TotalCharges</th>\n",
       "      <th>Churn</th>\n",
       "    </tr>\n",
       "  </thead>\n",
       "  <tbody>\n",
       "    <tr>\n",
       "      <th>0</th>\n",
       "      <td>7590-VHVEG</td>\n",
       "      <td>Female</td>\n",
       "      <td>0</td>\n",
       "      <td>Yes</td>\n",
       "      <td>No</td>\n",
       "      <td>1</td>\n",
       "      <td>No</td>\n",
       "      <td>No phone service</td>\n",
       "      <td>DSL</td>\n",
       "      <td>No</td>\n",
       "      <td>...</td>\n",
       "      <td>No</td>\n",
       "      <td>No</td>\n",
       "      <td>No</td>\n",
       "      <td>No</td>\n",
       "      <td>Month-to-month</td>\n",
       "      <td>Yes</td>\n",
       "      <td>Electronic check</td>\n",
       "      <td>29.85</td>\n",
       "      <td>29.85</td>\n",
       "      <td>No</td>\n",
       "    </tr>\n",
       "    <tr>\n",
       "      <th>1</th>\n",
       "      <td>5575-GNVDE</td>\n",
       "      <td>Male</td>\n",
       "      <td>0</td>\n",
       "      <td>No</td>\n",
       "      <td>No</td>\n",
       "      <td>34</td>\n",
       "      <td>Yes</td>\n",
       "      <td>No</td>\n",
       "      <td>DSL</td>\n",
       "      <td>Yes</td>\n",
       "      <td>...</td>\n",
       "      <td>Yes</td>\n",
       "      <td>No</td>\n",
       "      <td>No</td>\n",
       "      <td>No</td>\n",
       "      <td>One year</td>\n",
       "      <td>No</td>\n",
       "      <td>Mailed check</td>\n",
       "      <td>56.95</td>\n",
       "      <td>1889.5</td>\n",
       "      <td>No</td>\n",
       "    </tr>\n",
       "    <tr>\n",
       "      <th>2</th>\n",
       "      <td>3668-QPYBK</td>\n",
       "      <td>Male</td>\n",
       "      <td>0</td>\n",
       "      <td>No</td>\n",
       "      <td>No</td>\n",
       "      <td>2</td>\n",
       "      <td>Yes</td>\n",
       "      <td>No</td>\n",
       "      <td>DSL</td>\n",
       "      <td>Yes</td>\n",
       "      <td>...</td>\n",
       "      <td>No</td>\n",
       "      <td>No</td>\n",
       "      <td>No</td>\n",
       "      <td>No</td>\n",
       "      <td>Month-to-month</td>\n",
       "      <td>Yes</td>\n",
       "      <td>Mailed check</td>\n",
       "      <td>53.85</td>\n",
       "      <td>108.15</td>\n",
       "      <td>Yes</td>\n",
       "    </tr>\n",
       "    <tr>\n",
       "      <th>3</th>\n",
       "      <td>7795-CFOCW</td>\n",
       "      <td>Male</td>\n",
       "      <td>0</td>\n",
       "      <td>No</td>\n",
       "      <td>No</td>\n",
       "      <td>45</td>\n",
       "      <td>No</td>\n",
       "      <td>No phone service</td>\n",
       "      <td>DSL</td>\n",
       "      <td>Yes</td>\n",
       "      <td>...</td>\n",
       "      <td>Yes</td>\n",
       "      <td>Yes</td>\n",
       "      <td>No</td>\n",
       "      <td>No</td>\n",
       "      <td>One year</td>\n",
       "      <td>No</td>\n",
       "      <td>Bank transfer (automatic)</td>\n",
       "      <td>42.30</td>\n",
       "      <td>1840.75</td>\n",
       "      <td>No</td>\n",
       "    </tr>\n",
       "    <tr>\n",
       "      <th>4</th>\n",
       "      <td>9237-HQITU</td>\n",
       "      <td>Female</td>\n",
       "      <td>0</td>\n",
       "      <td>No</td>\n",
       "      <td>No</td>\n",
       "      <td>2</td>\n",
       "      <td>Yes</td>\n",
       "      <td>No</td>\n",
       "      <td>Fiber optic</td>\n",
       "      <td>No</td>\n",
       "      <td>...</td>\n",
       "      <td>No</td>\n",
       "      <td>No</td>\n",
       "      <td>No</td>\n",
       "      <td>No</td>\n",
       "      <td>Month-to-month</td>\n",
       "      <td>Yes</td>\n",
       "      <td>Electronic check</td>\n",
       "      <td>70.70</td>\n",
       "      <td>151.65</td>\n",
       "      <td>Yes</td>\n",
       "    </tr>\n",
       "  </tbody>\n",
       "</table>\n",
       "<p>5 rows × 21 columns</p>\n",
       "</div>"
      ],
      "text/plain": [
       "   customerID  gender  SeniorCitizen Partner Dependents  tenure PhoneService  \\\n",
       "0  7590-VHVEG  Female              0     Yes         No       1           No   \n",
       "1  5575-GNVDE    Male              0      No         No      34          Yes   \n",
       "2  3668-QPYBK    Male              0      No         No       2          Yes   \n",
       "3  7795-CFOCW    Male              0      No         No      45           No   \n",
       "4  9237-HQITU  Female              0      No         No       2          Yes   \n",
       "\n",
       "      MultipleLines InternetService OnlineSecurity  ... DeviceProtection  \\\n",
       "0  No phone service             DSL             No  ...               No   \n",
       "1                No             DSL            Yes  ...              Yes   \n",
       "2                No             DSL            Yes  ...               No   \n",
       "3  No phone service             DSL            Yes  ...              Yes   \n",
       "4                No     Fiber optic             No  ...               No   \n",
       "\n",
       "  TechSupport StreamingTV StreamingMovies        Contract PaperlessBilling  \\\n",
       "0          No          No              No  Month-to-month              Yes   \n",
       "1          No          No              No        One year               No   \n",
       "2          No          No              No  Month-to-month              Yes   \n",
       "3         Yes          No              No        One year               No   \n",
       "4          No          No              No  Month-to-month              Yes   \n",
       "\n",
       "               PaymentMethod MonthlyCharges  TotalCharges Churn  \n",
       "0           Electronic check          29.85         29.85    No  \n",
       "1               Mailed check          56.95        1889.5    No  \n",
       "2               Mailed check          53.85        108.15   Yes  \n",
       "3  Bank transfer (automatic)          42.30       1840.75    No  \n",
       "4           Electronic check          70.70        151.65   Yes  \n",
       "\n",
       "[5 rows x 21 columns]"
      ]
     },
     "metadata": {},
     "output_type": "display_data"
    }
   ],
   "source": [
    "# Importar librerías\n",
    "from pyspark.sql import SparkSession\n",
    "from pyspark.ml.feature import VectorAssembler, StringIndexer, StandardScaler\n",
    "from pyspark.ml.classification import RandomForestClassifier, LogisticRegression\n",
    "from pyspark.ml.evaluation import MulticlassClassificationEvaluator\n",
    "from pyspark.sql.functions import col, when, sum\n",
    "import matplotlib.pyplot as plt\n",
    "import pandas as pd\n",
    "\n",
    "# Configuración inicial de Spark\n",
    "spark = SparkSession.builder \\\n",
    "    .appName(\"Churn Prediction\") \\\n",
    "    .getOrCreate()\n",
    "\n",
    "# Carga de datos\n",
    "data = spark.read.csv(\"../data/WA_Fn-UseC_-Telco-Customer-Churn.csv\", header=True, inferSchema=True)\n",
    "print(f\"Dimensiones: {data.count(), len(data.columns)}\")\n",
    "# Primeros 5 registros\n",
    "display(data.limit(5).toPandas())"
   ]
  },
  {
   "cell_type": "code",
   "execution_count": 45,
   "id": "9f5f6fae",
   "metadata": {},
   "outputs": [
    {
     "data": {
      "image/png": "[encoded data removed]",
      "text/plain": [
       "<Figure size 640x480 with 1 Axes>"
      ]
     },
     "metadata": {},
     "output_type": "display_data"
    }
   ],
   "source": [
    "# Distribución de Abandono\n",
    "dist = data.groupBy('Churn').count().toPandas()\n",
    "dist['Churn'] = dist['Churn'].replace({'No': 'No', 'Yes': 'Sí'})\n",
    "plt.bar(dist['Churn'], dist['count'], color=['skyblue', 'salmon'])\n",
    "plt.title('Distribución de Abandono')\n",
    "plt.xlabel('Abandono')\n",
    "plt.ylabel('Cantidad')\n",
    "plt.show()"
   ]
  },
  {
   "cell_type": "markdown",
   "id": "d93ea57d",
   "metadata": {},
   "source": [
    "## 2. Preprocesamiento"
   ]
  },
  {
   "cell_type": "code",
   "execution_count": 46,
   "id": "1c91f9a1",
   "metadata": {},
   "outputs": [],
   "source": [
    "# Eliminar valores nulos en TotalCharges (que fueron leídos como strings)\n",
    "data = data.withColumn(\n",
    "    \"TotalCharges\",\n",
    "    when(col(\"TotalCharges\") == \" \", None).otherwise(col(\"TotalCharges\"))\n",
    ")\n",
    "data = data.withColumn(\"TotalCharges\", col(\"TotalCharges\").cast(\"double\"))\n",
    "data = data.na.drop(subset=[\"TotalCharges\"])\n",
    "\n",
    "# Eliminar customerID\n",
    "data = data.drop('customerID')\n",
    "\n",
    "# Convertir variable objetivo a binaria (0/1)\n",
    "data = data.withColumn(\"Churn\", when(col(\"Churn\") == \"Yes\", 1).otherwise(0))\n",
    "\n",
    "# Convertir variables categóricas a numéricas\n",
    "cat_cols = [field for (field, dtype) in data.dtypes if dtype == 'string' and field != 'Churn']\n",
    "for colname in cat_cols:\n",
    "    indexer = StringIndexer(inputCol=colname, outputCol=colname+\"_idx\")\n",
    "    data = indexer.fit(data).transform(data)\n",
    "\n",
    "# Selección de características\n",
    "num_cols = [field for (field, dtype) in data.dtypes if dtype in ['double', 'int'] and field != 'Churn']\n",
    "idx_cols = [c+\"_idx\" for c in cat_cols]\n",
    "features = num_cols + idx_cols\n",
    "assembler = VectorAssembler(inputCols=features, outputCol='features_vec')\n",
    "data = assembler.transform(data)\n",
    "\n",
    "# Escalado de características\n",
    "scaler = StandardScaler(inputCol='features_vec', outputCol='features')\n",
    "scaler_model = scaler.fit(data)\n",
    "data = scaler_model.transform(data)\n",
    "\n",
    "# División en entrenamiento y prueba\n",
    "train_data, test_data = data.randomSplit([0.8, 0.2], seed=42)"
   ]
  },
  {
   "cell_type": "markdown",
   "id": "55ab3560",
   "metadata": {},
   "source": [
    "## 3. Modelado (Random Forest)"
   ]
  },
  {
   "cell_type": "code",
   "execution_count": 47,
   "id": "fad65064",
   "metadata": {},
   "outputs": [],
   "source": [
    "# Crear y entrenar modelo\n",
    "rf = RandomForestClassifier(labelCol='Churn', featuresCol='features', numTrees=100, seed=42)\n",
    "rf_model = rf.fit(train_data)\n",
    "# Hacer predicciones\n",
    "y_pred = rf_model.transform(test_data)"
   ]
  },
  {
   "cell_type": "markdown",
   "id": "11da0751",
   "metadata": {},
   "source": [
    "## 4. Evaluación"
   ]
  },
  {
   "cell_type": "code",
   "execution_count": 48,
   "id": "24fa0247",
   "metadata": {},
   "outputs": [
    {
     "name": "stdout",
     "output_type": "stream",
     "text": [
      "Accuracy: 0.7958\n",
      "\n",
      "Classification Report:\n",
      "              precision    recall  f1-score   support\n",
      "\n",
      "           0       0.82      0.94      0.87       999\n",
      "           1       0.68      0.38      0.49       343\n",
      "\n",
      "    accuracy                           0.80      1342\n",
      "   macro avg       0.75      0.66      0.68      1342\n",
      "weighted avg       0.78      0.80      0.77      1342\n",
      "\n"
     ]
    }
   ],
   "source": [
    "# Accuracy\n",
    "evaluator_acc = MulticlassClassificationEvaluator(labelCol='Churn', predictionCol='prediction', metricName='accuracy')\n",
    "accuracy = evaluator_acc.evaluate(y_pred)\n",
    "print(f\"Accuracy: {accuracy:.4f}\")\n",
    "\n",
    "# Classification report\n",
    "pd_pred = y_pred.select('Churn', 'prediction').toPandas()\n",
    "from sklearn.metrics import classification_report, confusion_matrix\n",
    "print(\"\\nClassification Report:\")\n",
    "print(classification_report(pd_pred['Churn'], pd_pred['prediction']))"
   ]
  },
  {
   "cell_type": "code",
   "execution_count": 49,
   "id": "4ced3020",
   "metadata": {},
   "outputs": [
    {
     "data": {
      "image/png": "[encoded data removed]",
      "text/plain": [
       "<Figure size 600x600 with 1 Axes>"
      ]
     },
     "metadata": {},
     "output_type": "display_data"
    }
   ],
   "source": [
    "# Matriz de confusión\n",
    "conf_matrix = confusion_matrix(pd_pred['Churn'], pd_pred['prediction'])\n",
    "plt.figure(figsize=(6,6))\n",
    "plt.imshow(conf_matrix, cmap='Blues')\n",
    "plt.title('Matriz de Confusión')\n",
    "plt.xlabel('Predicción')\n",
    "plt.ylabel('Real')\n",
    "plt.xticks([0,1], ['No', 'Sí'])\n",
    "plt.yticks([0,1], ['No', 'Sí'])\n",
    "for i in range(2):\n",
    "    for j in range(2):\n",
    "        plt.text(j, i, conf_matrix[i, j], ha='center', va='center', color='black')\n",
    "plt.tight_layout()\n",
    "plt.show()"
   ]
  },
  {
   "cell_type": "markdown",
   "id": "945ec2aa",
   "metadata": {},
   "source": [
    "## 5. Visualización de Resultados"
   ]
  },
  {
   "cell_type": "code",
   "execution_count": 50,
   "id": "9ea24144",
   "metadata": {},
   "outputs": [
    {
     "data": {
      "image/png": "[encoded data removed]",
      "text/plain": [
       "<Figure size 1000x800 with 1 Axes>"
      ]
     },
     "metadata": {},
     "output_type": "display_data"
    }
   ],
   "source": [
    "# Importancia de características\n",
    "importances = rf_model.featureImportances.toArray()\n",
    "importance_df = pd.DataFrame({'Feature': features, 'Importance': importances})\n",
    "importance_df = importance_df.sort_values('Importance', ascending=False).head(15)\n",
    "plt.figure(figsize=(10, 8))\n",
    "plt.barh(importance_df['Feature'][::-1], importance_df['Importance'][::-1], color='skyblue')\n",
    "plt.title('Importancia de las 15 Principales Características', fontsize=16)\n",
    "plt.xlabel('Importancia', fontsize=14)\n",
    "plt.ylabel('Característica', fontsize=14)\n",
    "plt.yticks(fontsize=12)\n",
    "plt.xticks(fontsize=12)\n",
    "plt.tight_layout(rect=[0, 0, 1, 1])\n",
    "plt.show()"
   ]
  },
  {
   "cell_type": "markdown",
   "id": "58f24d9e",
   "metadata": {},
   "source": [
    "## 6. Comparación con Otros Modelos"
   ]
  },
  {
   "cell_type": "code",
   "execution_count": 51,
   "id": "27336a09",
   "metadata": {},
   "outputs": [
    {
     "data": {
      "text/html": [
       "<div>\n",
       "<style scoped>\n",
       "    .dataframe tbody tr th:only-of-type {\n",
       "        vertical-align: middle;\n",
       "    }\n",
       "\n",
       "    .dataframe tbody tr th {\n",
       "        vertical-align: top;\n",
       "    }\n",
       "\n",
       "    .dataframe thead th {\n",
       "        text-align: right;\n",
       "    }\n",
       "</style>\n",
       "<table border=\"1\" class=\"dataframe\">\n",
       "  <thead>\n",
       "    <tr style=\"text-align: right;\">\n",
       "      <th></th>\n",
       "      <th>Model</th>\n",
       "      <th>Accuracy</th>\n",
       "    </tr>\n",
       "  </thead>\n",
       "  <tbody>\n",
       "    <tr>\n",
       "      <th>1</th>\n",
       "      <td>Logistic Regression</td>\n",
       "      <td>0.807004</td>\n",
       "    </tr>\n",
       "    <tr>\n",
       "      <th>0</th>\n",
       "      <td>Random Forest</td>\n",
       "      <td>0.795827</td>\n",
       "    </tr>\n",
       "  </tbody>\n",
       "</table>\n",
       "</div>"
      ],
      "text/plain": [
       "                 Model  Accuracy\n",
       "1  Logistic Regression  0.807004\n",
       "0        Random Forest  0.795827"
      ]
     },
     "metadata": {},
     "output_type": "display_data"
    }
   ],
   "source": [
    "models = [\n",
    "    (\"Random Forest\", RandomForestClassifier(labelCol='Churn', featuresCol='features', numTrees=100, seed=42)),\n",
    "    (\"Logistic Regression\", LogisticRegression(labelCol='Churn', featuresCol='features', maxIter=100))\n",
    "]\n",
    "results = []\n",
    "for name, model in models:\n",
    "    m = model.fit(train_data)\n",
    "    pred = m.transform(test_data)\n",
    "    acc = evaluator_acc.evaluate(pred)\n",
    "    results.append({'Model': name, 'Accuracy': acc})\n",
    "results_df = pd.DataFrame(results)\n",
    "display(results_df.sort_values('Accuracy', ascending=False))"
   ]
  },
  {
   "cell_type": "code",
   "execution_count": 52,
   "id": "99edaa56",
   "metadata": {},
   "outputs": [],
   "source": [
    "# Detener Spark\n",
    "spark.stop()"
   ]
  }
 ],
 "metadata": {
  "kernelspec": {
   "display_name": "Python 3",
   "language": "python",
   "name": "python3"
  },
  "language_info": {
   "codemirror_mode": {
    "name": "ipython",
    "version": 3
   },
   "file_extension": ".py",
   "mimetype": "text/x-python",
   "name": "python",
   "nbconvert_exporter": "python",
   "pygments_lexer": "ipython3",
   "version": "3.12.6"
  }
 },
 "nbformat": 4,
 "nbformat_minor": 5
}
